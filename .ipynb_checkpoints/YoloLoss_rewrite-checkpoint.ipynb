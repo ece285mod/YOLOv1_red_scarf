{
 "cells": [
  {
   "cell_type": "code",
   "execution_count": 1,
   "metadata": {},
   "outputs": [],
   "source": [
    "%matplotlib notebook\n",
    "import os\n",
    "import numpy as np\n",
    "import torch\n",
    "import torch.nn as nn\n",
    "import torch.nn.functional as F\n",
    "import torch.utils.data as td\n",
    "import torchvision as tv\n",
    "from PIL import Image\n",
    "import matplotlib.pyplot as plt\n",
    "import vocModel.nntools as nt\n",
    "import vocData as voc\n",
    "import vocModel\n",
    "from torch.utils.data import DataLoader\n",
    "import cv2\n",
    "import time"
   ]
  },
  {
   "cell_type": "code",
   "execution_count": 2,
   "metadata": {},
   "outputs": [
    {
     "name": "stdout",
     "output_type": "stream",
     "text": [
      "cuda\n"
     ]
    }
   ],
   "source": [
    "device = 'cuda' if torch.cuda.is_available() else 'cpu'\n",
    "print(device)\n",
    "# device = 'cpu'"
   ]
  },
  {
   "cell_type": "code",
   "execution_count": 3,
   "metadata": {},
   "outputs": [],
   "source": [
    "dataset_root_dir = \"/datasets/ee285f-public/PascalVOC2012/\""
   ]
  },
  {
   "cell_type": "code",
   "execution_count": 4,
   "metadata": {},
   "outputs": [
    {
     "name": "stdout",
     "output_type": "stream",
     "text": [
      "5717 5823\n"
     ]
    }
   ],
   "source": [
    "train_set = voc.VOCDetection_Yolo(dataset_root_dir,  image_set = 'train')\n",
    "val_set = voc.VOCDetection_Yolo(dataset_root_dir, image_set = 'val')\n",
    "print (len(train_set), len(val_set))\n"
   ]
  },
  {
   "cell_type": "code",
   "execution_count": 5,
   "metadata": {},
   "outputs": [],
   "source": [
    "net = vocModel.YoloNet(7, 2, 20, 5,0.5)\n",
    "net = net.to(device)\n",
    "lr = 1e-4\n",
    "optimizer = torch.optim.Adam(net.parameters(), lr=lr)"
   ]
  },
  {
   "cell_type": "code",
   "execution_count": 49,
   "metadata": {},
   "outputs": [
    {
     "name": "stdout",
     "output_type": "stream",
     "text": [
      "0 1 3 tensor(1., device='cuda:0')\n",
      "0 4 3 tensor(1., device='cuda:0')\n",
      "1 1 1 tensor(1., device='cuda:0')\n",
      "1 1 4 tensor(1., device='cuda:0')\n",
      "2 1 6 tensor(1., device='cuda:0')\n",
      "2 2 3 tensor(1., device='cuda:0')\n",
      "2 3 3 tensor(1., device='cuda:0')\n"
     ]
    }
   ],
   "source": [
    "train_loader = DataLoader(train_set,batch_size=3,shuffle=False,num_workers=0)\n",
    "train_iter = iter(train_loader)\n",
    "\n",
    "#     loss = net.criterion(output, target)\n",
    "#     print (loss)    \n",
    "#     loss.backward()\n",
    "#     optimizer.step()\n",
    "    "
   ]
  },
  {
   "cell_type": "code",
   "execution_count": 84,
   "metadata": {},
   "outputs": [
    {
     "name": "stdout",
     "output_type": "stream",
     "text": [
      "0 3 3 tensor(1., device='cuda:0')\n",
      "1 3 0 tensor(1., device='cuda:0')\n",
      "1 3 6 tensor(1., device='cuda:0')\n",
      "1 5 3 tensor(1., device='cuda:0')\n",
      "2 3 4 tensor(1., device='cuda:0')\n",
      "2 4 0 tensor(1., device='cuda:0')\n"
     ]
    }
   ],
   "source": [
    "img,target = next(train_iter)\n",
    "img,target = img.to(device), target.to(device)\n",
    "output = net.forward(img)\n",
    "for b in range(3):\n",
    "    for i in range(7):\n",
    "        for j in range(7):\n",
    "            if (target[b,i,j,4]>0):\n",
    "                print (b,i,j,target[b,i,j,4])\n",
    "                \n",
    "output =pred"
   ]
  },
  {
   "cell_type": "code",
   "execution_count": 166,
   "metadata": {},
   "outputs": [
    {
     "name": "stdout",
     "output_type": "stream",
     "text": [
      "torch.Size([6, 30])\n",
      "tensor(41.2968, device='cuda:0', grad_fn=<AddBackward0>) 0 0\n",
      "sanity: tensor(0., device='cuda:0')\n",
      "tensor(41.2968, device='cuda:0', grad_fn=<AddBackward0>) tensor(46.3615, device='cuda:0', grad_fn=<AddBackward0>) 0\n",
      "tensor(41.2968, device='cuda:0', grad_fn=<AddBackward0>) tensor(46.3615, device='cuda:0', grad_fn=<AddBackward0>) tensor(15.8397, device='cuda:0', grad_fn=<MulBackward0>)\n",
      "tensor(41.2968, device='cuda:0', grad_fn=<AddBackward0>) tensor(49.1584, device='cuda:0', grad_fn=<AddBackward0>) tensor(15.8397, device='cuda:0', grad_fn=<MulBackward0>)\n",
      "tensor(35.4316, device='cuda:0', grad_fn=<DivBackward0>)\n"
     ]
    }
   ],
   "source": [
    "lamb_class_prob = 1\n",
    "lamb_obj_conf = 1\n",
    "lamb_noobj_conf = 0.5\n",
    "lamb_coord = 5\n",
    "\n",
    "class_loss = 0\n",
    "conf_loss = 0 \n",
    "local_loss = 0\n",
    "\n",
    "n = pred.size()[0]\n",
    "\n",
    "# find where iamge is present of the grid\n",
    "object_mask = target[:,:,:,4] > 0\n",
    "object_mask = object_mask.unsqueeze(-1).expand_as(target)\n",
    "noobject_mask = 1-object_mask\n",
    "\n",
    "## separate output and prediction \n",
    "object_pred = (pred[object_mask]).contiguous().view(-1,30)\n",
    "object_target = (target[object_mask]).contiguous().view(-1,30)\n",
    "\n",
    "noobj_pred = (pred[noobject_mask]).contiguous().view(-1,30)\n",
    "noobj_target = (target[noobject_mask]).contiguous().view(-1,30)\n",
    "\n",
    "# 1. Classification loss for both obj and no_boj\n",
    "object_pred_class = object_pred[:,10:]\n",
    "object_target_class = object_target[:,10:]\n",
    "\n",
    "class_loss += lamb_class_prob*F.mse_loss(object_pred_class,object_target_class, reduction='sum')\n",
    "print (class_loss, conf_loss, local_loss)\n",
    "\n",
    "# 2. Confidence loss for no_obj\n",
    "noobj_pred_conf = noobj_pred[:,[4,9]]\n",
    "noobj_target_conf = noobj_target[:,[4,9]]\n",
    "print (\"sanity:\", torch.sum(noobj_target_conf))\n",
    "conf_loss += lamb_noobj_conf * F.mse_loss(noobj_pred_conf,noobj_target_conf, reduction ='sum')\n",
    "print (class_loss, conf_loss, local_loss)\n",
    "\n",
    "# 3. Loss for grids with object\n",
    "object_pred_coord = torch.cat((object_pred[:,:4],object_pred[:,5:9]), dim =1).contiguous().view(object_pred.size()[0]*2,-1)\n",
    "object_target_coord = torch.cat((object_target[:,:4],object_target[:,5:9]), dim =1).contiguous().view(object_target.size()[0]*2,-1)\n",
    "\n",
    "object_pred_coord_xy = torch.cat([object_pred_coord[:,:2],\\\n",
    "                                  object_pred_coord[:,:2] + torch.pow(object_pred_coord[:,2:],2)],\\\n",
    "                                 dim=1)\n",
    "object_target_coord_xy = torch.cat([object_target_coord[:,:2],\\\n",
    "                                  object_target_coord[:,:2] + torch.pow(object_target_coord[:,2:],2)],\\\n",
    "                                 dim=1)\n",
    "\n",
    "# compute iou to decide responsible bounding box. \n",
    "ious = cal_iou(object_pred_coord_xy, object_target_coord_xy)\n",
    "ious = ious[range(ious.size()[0]),range(ious.size()[0])].view(-1,2)\n",
    "best_boxes = torch.eq(ious, torch.max(ious, 1)[0].unsqueeze(1)).view(-1,1)\n",
    "ious = ious.view(-1,1)\n",
    "\n",
    "# 3-1Calculated localization error for selected bounding boxes.\n",
    "selected_pred_coord = object_pred_coord*best_boxes.expand_as(object_pred_coord).float()\n",
    "selected_target_coord = object_target_coord*best_boxes.expand_as(object_target_coord).float()\n",
    "local_loss = lamb_coord * F.mse_loss(selected_pred_coord, selected_target_coord, reduction='sum')\n",
    "\n",
    "# 3-1Calculat confidence error for selected bounding boxes.\n",
    "object_pred_conf = object_pred[:,[4,9]].view(-1,1)\n",
    "selected_pred_conf = object_pred_conf*best_boxes.float()\n",
    "selected_target_conf = ious.expand_as(selected_pred_conf)*best_boxes.float()\n",
    "conf_loss += lamb_obj_conf * F.mse_loss(selected_pred_conf,selected_target_conf,reduction='sum')\n",
    "\n",
    "# 3-2Calculat confidence error for selected bounding boxes.\n",
    "unselected_pred_conf = object_pred_conf*(1-best_boxes).float()\n",
    "unselected_target_conf = ious.expand_as(selected_pred_conf)*(1-best_boxes).float()\n",
    "conf_loss += lamb_noobj_conf * F.mse_loss(unselected_pred_conf, unselected_target_conf, reduction='sum')\n",
    "\n",
    "loss = local_loss + conf_loss + class_loss\n",
    "loss = loss/n\n",
    "print (loss)\n",
    "\n"
   ]
  },
  {
   "cell_type": "code",
   "execution_count": 167,
   "metadata": {},
   "outputs": [
    {
     "name": "stderr",
     "output_type": "stream",
     "text": [
      "/opt/conda/lib/python3.6/site-packages/torch/nn/_reduction.py:49: UserWarning: size_average and reduce args will be deprecated, please use reduction='sum' instead.\n",
      "  warnings.warn(warning.format(ret))\n"
     ]
    },
    {
     "data": {
      "text/plain": [
       "tensor(33.2438, device='cuda:0', grad_fn=<DivBackward0>)"
      ]
     },
     "execution_count": 167,
     "metadata": {},
     "output_type": "execute_result"
    }
   ],
   "source": [
    "forward(output, target)"
   ]
  },
  {
   "cell_type": "code",
   "execution_count": 164,
   "metadata": {},
   "outputs": [],
   "source": [
    "def forward(pred_tensor,target_tensor):\n",
    "\n",
    "    N = pred_tensor.size()[0]\n",
    "    coo_mask = target_tensor[:,:,:,4] > 0\n",
    "    noo_mask = target_tensor[:,:,:,4] == 0\n",
    "    coo_mask = coo_mask.unsqueeze(-1).expand_as(target_tensor)\n",
    "    noo_mask = noo_mask.unsqueeze(-1).expand_as(target_tensor)\n",
    "\n",
    "    coo_pred = pred_tensor[coo_mask].view(-1,30)\n",
    "    box_pred = coo_pred[:,:10].contiguous().view(-1,5) #box[x1,y1,w1,h1,c1]\n",
    "    class_pred = coo_pred[:,10:]                       #[x2,y2,w2,h2,c2]\n",
    "\n",
    "    coo_target = target_tensor[coo_mask].view(-1,30)\n",
    "    box_target = coo_target[:,:10].contiguous().view(-1,5)\n",
    "    class_target = coo_target[:,10:]\n",
    "\n",
    "    # compute not contain obj loss\n",
    "    noo_pred = pred_tensor[noo_mask].view(-1,30)\n",
    "    noo_target = target_tensor[noo_mask].view(-1,30)\n",
    "    noo_pred_mask = torch.cuda.ByteTensor(noo_pred.size())\n",
    "    noo_pred_mask.zero_()\n",
    "    noo_pred_mask[:,4]=1;noo_pred_mask[:,9]=1\n",
    "    noo_pred_c = noo_pred[noo_pred_mask] #noo pred只需要计算 c 的损失 size[-1,2]\n",
    "    noo_target_c = noo_target[noo_pred_mask]\n",
    "    nooobj_loss = F.mse_loss(noo_pred_c,noo_target_c,size_average=False)\n",
    "\n",
    "    #compute contain obj loss\n",
    "    coo_response_mask = torch.cuda.ByteTensor(box_target.size())\n",
    "    coo_response_mask.zero_()\n",
    "    coo_not_response_mask = torch.cuda.ByteTensor(box_target.size())\n",
    "    coo_not_response_mask.zero_()\n",
    "    box_target_iou = torch.zeros(box_target.size()).cuda()\n",
    "    for i in range(0,box_target.size()[0],2): #choose the best iou box\n",
    "        box1 = box_pred[i:i+2]\n",
    "        box1_xyxy = torch.FloatTensor(box1.size())\n",
    "        box1_xyxy[:,:2] = box1[:,:2]/14. -0.5*box1[:,2:4]\n",
    "        box1_xyxy[:,2:4] = box1[:,:2]/14. +0.5*box1[:,2:4]\n",
    "        box2 = box_target[i].view(-1,5)\n",
    "        box2_xyxy = torch.FloatTensor(box2.size())\n",
    "        box2_xyxy[:,:2] = box2[:,:2]/14. -0.5*box2[:,2:4]\n",
    "        box2_xyxy[:,2:4] = box2[:,:2]/14. +0.5*box2[:,2:4]\n",
    "        iou = cal_iou(box1_xyxy[:,:4],box2_xyxy[:,:4]) #[2,1]\n",
    "        max_iou,max_index = iou.max(0)\n",
    "        max_index = max_index.data.cuda()\n",
    "\n",
    "        coo_response_mask[i+max_index]=1\n",
    "        coo_not_response_mask[i+1-max_index]=1\n",
    "\n",
    "        #####\n",
    "        # we want the confidence score to equal the\n",
    "        # intersection over union (IOU) between the predicted box\n",
    "        # and the ground truth\n",
    "        #####\n",
    "        box_target_iou[i+max_index,torch.LongTensor([4]).cuda()] = (max_iou).data.cuda()\n",
    "    box_target_iou = box_target_iou.cuda()\n",
    "    #1.response loss\n",
    "    box_pred_response = box_pred[coo_response_mask].view(-1,5)\n",
    "    box_target_response_iou = box_target_iou[coo_response_mask].view(-1,5)\n",
    "    box_target_response = box_target[coo_response_mask].view(-1,5)\n",
    "    contain_loss = F.mse_loss(box_pred_response[:,4],box_target_response_iou[:,4],size_average=False)\n",
    "    loc_loss = F.mse_loss(box_pred_response[:,:2],box_target_response[:,:2],size_average=False) +\\\n",
    "    F.mse_loss(torch.sqrt(box_pred_response[:,2:4]),torch.sqrt(box_target_response[:,2:4]),size_average=False)\n",
    "    #2.not response loss\n",
    "    box_pred_not_response = box_pred[coo_not_response_mask].view(-1,5)\n",
    "    box_target_not_response = box_target[coo_not_response_mask].view(-1,5)\n",
    "    box_target_not_response[:,4]= 0\n",
    "    #not_contain_loss = F.mse_loss(box_pred_response[:,4],box_target_response[:,4],size_average=False)\n",
    "\n",
    "    #I believe this bug is simply a typo\n",
    "    not_contain_loss = F.mse_loss(box_pred_not_response[:,4], box_target_not_response[:,4],size_average=False)\n",
    "\n",
    "    #3.class loss\n",
    "    class_loss = F.mse_loss(class_pred,class_target,size_average=False)\n",
    "    \n",
    "    return (5.0*loc_loss + 2*contain_loss + not_contain_loss + 0.5*nooobj_loss + class_loss)/N\n",
    "                 "
   ]
  },
  {
   "cell_type": "code",
   "execution_count": 74,
   "metadata": {},
   "outputs": [],
   "source": [
    "def intersect(box_a, box_b):\n",
    "    A = box_a.size(0)\n",
    "    B = box_b.size(0)\n",
    "    \n",
    "    max_xy = torch.min(box_a[:, 2:].unsqueeze(1).expand(A, B, 2),\n",
    "                       box_b[:, 2:].unsqueeze(0).expand(A, B, 2))\n",
    "    min_xy = torch.max(box_a[:, :2].unsqueeze(1).expand(A, B, 2),\n",
    "                       box_b[:, :2].unsqueeze(0).expand(A, B, 2))\n",
    "    \n",
    "    inter = torch.clamp((max_xy - min_xy), min=0)\n",
    "    return inter[:, :, 0] * inter[:, :, 1]\n",
    "\n",
    "def cal_iou(box_a, box_b):\n",
    "    inter = intersect(box_a, box_b)\n",
    "    area_a = ((box_a[:, 2]-box_a[:, 0]) *\n",
    "              (box_a[:, 3]-box_a[:, 1])).unsqueeze(1).expand_as(inter)  # [A,B]\n",
    "    area_b = ((box_b[:, 2]-box_b[:, 0]) *\n",
    "              (box_b[:, 3]-box_b[:, 1])).unsqueeze(0).expand_as(inter)  # [A,B]\n",
    "    union = area_a + area_b - inter\n",
    "    return inter / union  # [A,B]\n"
   ]
  },
  {
   "cell_type": "code",
   "execution_count": null,
   "metadata": {},
   "outputs": [],
   "source": []
  }
 ],
 "metadata": {
  "kernelspec": {
   "display_name": "Python 3",
   "language": "python",
   "name": "python3"
  },
  "language_info": {
   "codemirror_mode": {
    "name": "ipython",
    "version": 3
   },
   "file_extension": ".py",
   "mimetype": "text/x-python",
   "name": "python",
   "nbconvert_exporter": "python",
   "pygments_lexer": "ipython3",
   "version": "3.6.8"
  }
 },
 "nbformat": 4,
 "nbformat_minor": 2
}
